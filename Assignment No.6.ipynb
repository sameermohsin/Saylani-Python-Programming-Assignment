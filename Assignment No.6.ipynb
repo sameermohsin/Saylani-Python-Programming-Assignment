{
 "cells": [
  {
   "cell_type": "code",
   "execution_count": 14,
   "metadata": {},
   "outputs": [
    {
     "name": "stdout",
     "output_type": "stream",
     "text": [
      "Car Name: HONDA Civic\n",
      "Car Color: Blue\n",
      "Car Model: 2016\n",
      "Car Milage: 18km/lt.\n",
      "Car Top Speed: 130mph\n"
     ]
    }
   ],
   "source": [
    "class car():\n",
    "    def __init__(self,name,color,model,milage,topspeed):\n",
    "        self.name = name\n",
    "        self.color = color\n",
    "        self.model = model\n",
    "        self.milage = milage\n",
    "        self.topspeed = topspeed\n",
    "car_features = car(\"HONDA Civic\",\"Blue\",\"2016\",\"18km/lt.\",\"130mph\")\n",
    "print(\"Car Name:\",car_features.name)\n",
    "print(\"Car Color:\",car_features.color)\n",
    "print(\"Car Model:\",car_features.model)\n",
    "print(\"Car Milage:\",car_features.milage)\n",
    "print(\"Car Top Speed:\",car_features.topspeed)"
   ]
  }
 ],
 "metadata": {
  "kernelspec": {
   "display_name": "Python 3",
   "language": "python",
   "name": "python3"
  },
  "language_info": {
   "codemirror_mode": {
    "name": "ipython",
    "version": 3
   },
   "file_extension": ".py",
   "mimetype": "text/x-python",
   "name": "python",
   "nbconvert_exporter": "python",
   "pygments_lexer": "ipython3",
   "version": "3.7.4"
  }
 },
 "nbformat": 4,
 "nbformat_minor": 2
}
