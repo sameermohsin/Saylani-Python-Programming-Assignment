{
 "cells": [
  {
   "cell_type": "code",
   "execution_count": 1,
   "metadata": {},
   "outputs": [
    {
     "name": "stdout",
     "output_type": "stream",
     "text": [
      "Enter 1st Value = 4\n",
      "Enter Operator = **\n",
      "Enter Power Value = 2\n",
      "Answer = 16\n"
     ]
    }
   ],
   "source": [
    "Value1 = int(input(\"Enter 1st Value = \"))\n",
    "Operator = input(\"Enter Operator = \")\n",
    "\n",
    "if Operator == \"**\":\n",
    "    Power = int(input(\"Enter Power Value = \"))\n",
    "    Value = Value1 ** Power\n",
    "    print(\"Answer =\",Value)\n",
    "else:\n",
    "    Value2 = int(input(\"Enter 2nd Value = \"))\n",
    "\n",
    "if Operator == \"+\":\n",
    "    Value = Value1 + Value2\n",
    "    print(\"Answer = \", Value)\n",
    "elif Operator == \"-\":\n",
    "    Value = Value1 - Value2\n",
    "    print(\"Answer = \" , Value)\n",
    "elif Operator == \"*\":\n",
    "    Value = Value1 * Value2\n",
    "    print(\"Answer = \", Value)\n",
    "elif Operator == \"/\":\n",
    "    Value = Value1 / Value2\n",
    "    print(\"Answer = \", Value)"
   ]
  },
  {
   "cell_type": "code",
   "execution_count": 5,
   "metadata": {},
   "outputs": [
    {
     "name": "stdout",
     "output_type": "stream",
     "text": [
      "Integers in List : \n",
      "\n",
      "1\n",
      "2\n",
      "3\n",
      "4\n",
      "44\n"
     ]
    }
   ],
   "source": [
    "List = [1, 2, 3, 4, \"Sameer\", \"Saad\", \"2\", 44, \"0.8\"]\n",
    "print(\"Integers in List : \\n\")\n",
    "for integer in List:\n",
    "       if type(integer) == int: \n",
    "            print(integer)"
   ]
  },
  {
   "cell_type": "code",
   "execution_count": 6,
   "metadata": {},
   "outputs": [
    {
     "name": "stdout",
     "output_type": "stream",
     "text": [
      "{'Car Name': 'Corolla', 'Number Plate': 936, 1: 'Owner', \"Owner's Name\": 'Name : Mohsin Jawed', 'Origin City': 'City : Karachi', 'Residency': 'Defence'}\n"
     ]
    }
   ],
   "source": [
    "Cars = {\n",
    "    \"Car Name\": \"Corolla\",\n",
    "    \"Number Plate\": 936,\n",
    "    1 : \"Owner\",\n",
    "    \"Owner's Name\": \"Name : Mohsin Jawed\",\n",
    "    \"Origin City\": \"City : Karachi\"\n",
    "}\n",
    "Cars[\"Residency\"] = \"Defence\"\n",
    "print(Cars)"
   ]
  },
  {
   "cell_type": "code",
   "execution_count": 8,
   "metadata": {},
   "outputs": [
    {
     "name": "stdout",
     "output_type": "stream",
     "text": [
      "Sum =  209\n"
     ]
    }
   ],
   "source": [
    "a = [11,55,77,43,23]\n",
    "b = sum(a)\n",
    "print(\"Sum = \", b)"
   ]
  },
  {
   "cell_type": "code",
   "execution_count": 10,
   "metadata": {},
   "outputs": [
    {
     "name": "stdout",
     "output_type": "stream",
     "text": [
      "Repeating Elements are: \n",
      "\n",
      "Hi\n",
      "I\n",
      "Test\n"
     ]
    }
   ],
   "source": [
    "New_List = ['Hi', 'Ok', 'I', 'Quiz', 'Test', 'this', 'I', 'a', 'Test','Hi']\n",
    "New_List.sort()\n",
    "print(\"Repeating Elements are: \\n\")\n",
    "for i in range(len(New_List)-1):\n",
    "     if New_List[i] == New_List[i+1]:\n",
    "        print (New_List[i])"
   ]
  },
  {
   "cell_type": "code",
   "execution_count": 8,
   "metadata": {},
   "outputs": [
    {
     "name": "stdout",
     "output_type": "stream",
     "text": [
      "Enter a key for Checking : \n",
      "x\n",
      "Key Exists and it's value is : \n",
      "7\n"
     ]
    }
   ],
   "source": [
    "val = {\"x\":\"7\",\n",
    "   \"y\":\"2\",\n",
    "   \"z\":\"5\"\n",
    "  }\n",
    "key=input(\"Enter a key for Checking : \\n\")\n",
    "if key in val.keys():\n",
    "    print(\"Key Exists and it's value is : \")\n",
    "    print(val[key])\n",
    "else:\n",
    "      print(\"Key is not present\")"
   ]
  }
 ],
 "metadata": {
  "kernelspec": {
   "display_name": "Python 3",
   "language": "python",
   "name": "python3"
  },
  "language_info": {
   "codemirror_mode": {
    "name": "ipython",
    "version": 3
   },
   "file_extension": ".py",
   "mimetype": "text/x-python",
   "name": "python",
   "nbconvert_exporter": "python",
   "pygments_lexer": "ipython3",
   "version": "3.7.4"
  }
 },
 "nbformat": 4,
 "nbformat_minor": 2
}
