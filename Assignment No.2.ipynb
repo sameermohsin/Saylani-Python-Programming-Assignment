{
 "cells": [
  {
   "cell_type": "code",
   "execution_count": 13,
   "metadata": {},
   "outputs": [
    {
     "name": "stdout",
     "output_type": "stream",
     "text": [
      "               Enter Total Marks out of 100\n",
      "\n",
      "Enter English Marks : 78\n",
      "Enter Urdu Marks : 73\n",
      "Enter Mathematics Marks : 95\n",
      "Enter Science Marks : 81\n",
      "Enter Computer Marks : 88\n",
      "\n",
      "          =========== Student's Marksheet ============          \n",
      "\n",
      "English :  78\n",
      "Urdu :  73\n",
      "Mathematics :  95\n",
      "Science :  81\n",
      "Computer :  88\n",
      "Obtained Marks =  415\n",
      "Your Percentage =  83.0 %\n",
      "A+ Grade\n"
     ]
    }
   ],
   "source": [
    "print(\"               Enter Total Marks out of 100\\n\")\n",
    "English = int(input(\"Enter English Marks : \"))\n",
    "Urdu = int(input(\"Enter Urdu Marks : \"))\n",
    "Mathematics = int(input(\"Enter Mathematics Marks : \"))\n",
    "Science = int(input(\"Enter Science Marks : \"))\n",
    "Computer = int(input(\"Enter Computer Marks : \"))\n",
    "Total_Marks = English + Urdu + Mathematics + Science + Computer\n",
    "if Total_Marks > 500 :\n",
    "    print(\"Invalid Marks\")\n",
    "else :\n",
    "        print(\"\\n          =========== Student's Marksheet ============          \\n\")\n",
    "print(\"English : \",English)\n",
    "print(\"Urdu : \",Urdu)\n",
    "print(\"Mathematics : \",Mathematics)\n",
    "print(\"Science : \",Science)\n",
    "print(\"Computer : \",Computer)\n",
    "print(\"Obtained Marks = \",Total_Marks)\n",
    "Percentage = (Total_Marks/500)*100\n",
    "print(\"Your Percentage = \",Percentage,\"%\")\n",
    "if Percentage >= 80 and Percentage <= 100 :\n",
    "    print (\"A+ Grade\")\n",
    "elif Percentage >= 70 and Percentage < 80  :\n",
    "    print (\"A Grade\")\n",
    "elif Percentage >= 60 and Percentage < 70 :\n",
    "    print(\"B Grade\")\n",
    "elif Percentage >= 50 and Percentage < 60 :\n",
    "    print(\"C Grade\")\n",
    "else :\n",
    "    print(\"Fail\")"
   ]
  },
  {
   "cell_type": "code",
   "execution_count": 16,
   "metadata": {},
   "outputs": [
    {
     "name": "stdout",
     "output_type": "stream",
     "text": [
      "Enter a value : 5\n",
      "The given value is a odd number\n"
     ]
    }
   ],
   "source": [
    "v = int(input(\"Enter a value : \"))\n",
    "i = v%2\n",
    "if i == 0 :\n",
    "    print (\"The given value is an even number\")\n",
    "else :\n",
    "    print(\"The given value is a odd number\")"
   ]
  },
  {
   "cell_type": "code",
   "execution_count": 19,
   "metadata": {},
   "outputs": [
    {
     "name": "stdout",
     "output_type": "stream",
     "text": [
      "List Length =  4\n"
     ]
    }
   ],
   "source": [
    "A = [1,2,3,\"Sameer\"]\n",
    "print(\"List Length = \",len(A))"
   ]
  },
  {
   "cell_type": "code",
   "execution_count": 23,
   "metadata": {},
   "outputs": [
    {
     "name": "stdout",
     "output_type": "stream",
     "text": [
      "The sum of all elements is =  55\n"
     ]
    }
   ],
   "source": [
    "B = [1,2,3,4,5,6,7,8,9,10]\n",
    "print(\"The sum of all elements is = \",sum(B))"
   ]
  },
  {
   "cell_type": "code",
   "execution_count": 22,
   "metadata": {},
   "outputs": [
    {
     "name": "stdout",
     "output_type": "stream",
     "text": [
      "The largest number of a list is =  98\n"
     ]
    }
   ],
   "source": [
    "N = [44,77,49,98,32,11,67,9,0,93]\n",
    "print(\"The largest number of a list is = \",max(N))"
   ]
  },
  {
   "cell_type": "code",
   "execution_count": 37,
   "metadata": {},
   "outputs": [
    {
     "name": "stdout",
     "output_type": "stream",
     "text": [
      "1\n",
      "1\n",
      "2\n",
      "3\n"
     ]
    }
   ],
   "source": [
    "a = [1, 1, 2, 3, 5, 8, 13, 21, 34, 55, 89]\n",
    "for item in a:\n",
    "    if item < 5 and item >0:\n",
    "        print(item)"
   ]
  }
 ],
 "metadata": {
  "kernelspec": {
   "display_name": "Python 3",
   "language": "python",
   "name": "python3"
  },
  "language_info": {
   "codemirror_mode": {
    "name": "ipython",
    "version": 3
   },
   "file_extension": ".py",
   "mimetype": "text/x-python",
   "name": "python",
   "nbconvert_exporter": "python",
   "pygments_lexer": "ipython3",
   "version": "3.7.4"
  }
 },
 "nbformat": 4,
 "nbformat_minor": 2
}
