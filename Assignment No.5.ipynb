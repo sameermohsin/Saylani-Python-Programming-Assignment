{
 "cells": [
  {
   "cell_type": "code",
   "execution_count": 1,
   "metadata": {},
   "outputs": [
    {
     "name": "stdout",
     "output_type": "stream",
     "text": [
      "24\n"
     ]
    }
   ],
   "source": [
    "def factorial(n):\n",
    "    if n == 0:\n",
    "        return 1\n",
    "    else :\n",
    "        return n * factorial(n-1)\n",
    "fac=factorial(4)\n",
    "print(fac)"
   ]
  },
  {
   "cell_type": "code",
   "execution_count": 2,
   "metadata": {},
   "outputs": [
    {
     "name": "stdout",
     "output_type": "stream",
     "text": [
      "Enter Letters here: FDghfasgfashgdHdHJGDJHDgGHDGjAD\n",
      "\n",
      "\n",
      "No. of Upper case Letters:  16\n",
      "No. of Lower case Letters:  15\n"
     ]
    }
   ],
   "source": [
    "def checking_letter():\n",
    "    l = input(\"Enter Letters here: \")\n",
    "    d={\"Upper_case\":0,\n",
    "       \"Lower_case\":0}\n",
    "    for c in l:\n",
    "        if c.isupper():\n",
    "            d[\"Upper_case\"]+=1\n",
    "        elif c.islower():\n",
    "            d[\"Lower_case\"]+=1\n",
    "        else:\n",
    "            pass\n",
    "    print (\"\\n\")\n",
    "    print (\"No. of Upper case Letters: \", d[\"Upper_case\"])\n",
    "    print (\"No. of Lower case Letters: \", d[\"Lower_case\"])\n",
    "\n",
    "checking_letter()"
   ]
  },
  {
   "cell_type": "code",
   "execution_count": 5,
   "metadata": {},
   "outputs": [
    {
     "name": "stdout",
     "output_type": "stream",
     "text": [
      "List of Even Numbers: \n",
      "2\n",
      "4\n",
      "6\n",
      "8\n",
      "10\n",
      "12\n",
      "14\n",
      "16\n",
      "18\n",
      "20\n"
     ]
    }
   ],
   "source": [
    "List = [1,2,3,4,5,6,7,8,9,10,11,12,13,14,15,16,17,18,19,20]\n",
    "print(\"List of Even Numbers: \")\n",
    "for even in List:\n",
    "    if even%2 == 0:\n",
    "        print(even)"
   ]
  },
  {
   "cell_type": "code",
   "execution_count": 14,
   "metadata": {},
   "outputs": [
    {
     "name": "stdout",
     "output_type": "stream",
     "text": [
      "Enter a word to check: repaper\n",
      "This word is a palindrome.\n"
     ]
    }
   ],
   "source": [
    "\n",
    "def string():\n",
    "    word=input(\"Enter a word to check: \")\n",
    "    word = word.casefold()\n",
    "    string = reversed(word)\n",
    "    if list(word) == list(string):\n",
    "        print(\"This word is a palindrome.\")\n",
    "    else:\n",
    "        print(\"This word is not a palindrome.\")\n",
    "        \n",
    "string()"
   ]
  },
  {
   "cell_type": "code",
   "execution_count": 5,
   "metadata": {},
   "outputs": [
    {
     "name": "stdout",
     "output_type": "stream",
     "text": [
      "The given number is a Prime Number\n"
     ]
    }
   ],
   "source": [
    "def test_prime(n=13):\n",
    "    if (n==1):\n",
    "        return False\n",
    "    elif (n==2):\n",
    "        return True;\n",
    "    else:\n",
    "        for x in range(2,n):\n",
    "            if(n % x==0):\n",
    "                return \"The given number is not a Prime Number\"\n",
    "        return \"The given number is a Prime Number\"     \n",
    "result = test_prime()\n",
    "print(result)"
   ]
  },
  {
   "cell_type": "code",
   "execution_count": 65,
   "metadata": {},
   "outputs": [
    {
     "name": "stdout",
     "output_type": "stream",
     "text": [
      "The user bought these items from the market:\n",
      "1. Battery \n",
      "2. Mobile \n",
      "3. Shoes \n",
      "4. Bag \n",
      "5. Speaker\n"
     ]
    }
   ],
   "source": [
    "def user_shopping_list(item_1,item_2,item_3,item_4,item_5):\n",
    "    items = \"1. \"+ item_1 + \" \" + \"\\n2. \" + item_2 + \" \" + \"\\n3. \" + item_3 + \" \" + \"\\n4. \" + item_4 + \" \" + \"\\n5. \" + item_5\n",
    "    print(\"The user bought these items from the market:\")\n",
    "    print(items)\n",
    "    \n",
    "user_shopping_list(\"Battery\",\"Mobile\",\"Shoes\",\"Bag\", item_5=\"Speaker\")"
   ]
  }
 ],
 "metadata": {
  "kernelspec": {
   "display_name": "Python 3",
   "language": "python",
   "name": "python3"
  },
  "language_info": {
   "codemirror_mode": {
    "name": "ipython",
    "version": 3
   },
   "file_extension": ".py",
   "mimetype": "text/x-python",
   "name": "python",
   "nbconvert_exporter": "python",
   "pygments_lexer": "ipython3",
   "version": "3.7.4"
  }
 },
 "nbformat": 4,
 "nbformat_minor": 2
}
