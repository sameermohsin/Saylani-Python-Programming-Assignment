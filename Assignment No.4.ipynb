{
 "cells": [
  {
   "cell_type": "code",
   "execution_count": 7,
   "metadata": {},
   "outputs": [
    {
     "name": "stdout",
     "output_type": "stream",
     "text": [
      " Person's first_name is Sameer\n",
      " Person's last_name is Mohsin\n",
      " Person's age is 20\n",
      " Person's City is Karachi\n",
      " Person's qualification is Masters\n",
      "{'first_name': 'Sameer', 'last_name': 'Mohsin', 'age': '20', 'City': 'Karachi'}\n"
     ]
    }
   ],
   "source": [
    "student = {\n",
    "    \"first_name\": \"Sameer\",\n",
    "    \"last_name\": \"Mohsin\",\n",
    "    \"age\": \"20\",\n",
    "    \"City\": \"Karachi\"\n",
    "}\n",
    "student [\"qualification\"] = \"Masters\"\n",
    "for each_key, each_value in student.items():\n",
    "    print(\" Person's \" + each_key + \" is \" + each_value)\n",
    "del student [\"qualification\"]\n",
    "print (student)"
   ]
  },
  {
   "cell_type": "code",
   "execution_count": 8,
   "metadata": {},
   "outputs": [
    {
     "name": "stdout",
     "output_type": "stream",
     "text": [
      "Karachi: {'Country': 'Pakistan', 'Population': '14.91 million', 'Fact': 'It is the Sixth largest city in the world by city population'}\n",
      "Mumbai: {'Country': 'India', 'Population': '18.41 million', 'Fact': 'Mumbai has the highest number of millionaires and billionaires among all cities in India'}\n",
      "Sydney: {'Country': 'Australia', 'Population': '5.23 million', 'Fact': 'It is the 12th most expensive city in the world'}\n"
     ]
    }
   ],
   "source": [
    "Cities = {\n",
    "   \"Karachi\": {\n",
    "        \"Country\": \"Pakistan\",\n",
    "        \"Population\":\"14.91 million\",\n",
    "        \"Fact\" : \"It is the Sixth largest city in the world by city population\",    \n",
    "    },\n",
    "    \"Mumbai\": {\n",
    "        \"Country\": \"India\",\n",
    "        \"Population\":\"18.41 million\",\n",
    "        \"Fact\" : \"Mumbai has the highest number of millionaires and billionaires among all cities in India\"\n",
    "    },\n",
    "    \"Sydney\": {\n",
    "        \"Country\": \"Australia\",\n",
    "        \"Population\":\"5.23 million\",\n",
    "        \"Fact\" : \"It is the 12th most expensive city in the world\"\n",
    "    },\n",
    "}\n",
    "print(\"Karachi:\",Cities[\"Karachi\"])\n",
    "print(\"Mumbai:\",Cities[\"Mumbai\"])\n",
    "print(\"Sydney:\",Cities[\"Sydney\"])"
   ]
  },
  {
   "cell_type": "code",
   "execution_count": 9,
   "metadata": {},
   "outputs": [
    {
     "name": "stdout",
     "output_type": "stream",
     "text": [
      "Enter Age: 5\n",
      "Ticket Price = $10\n"
     ]
    }
   ],
   "source": [
    "Age = int(input(\"Enter Age: \"))\n",
    "if Age < 3:\n",
    "    print(\"The ticket is free\")\n",
    "elif Age > 3 and Age < 12:\n",
    "    print(\"Ticket Price = $10\")\n",
    "elif Age > 12:\n",
    "    print(\"Ticket Price = $15\")"
   ]
  },
  {
   "cell_type": "code",
   "execution_count": 14,
   "metadata": {},
   "outputs": [
    {
     "name": "stdout",
     "output_type": "stream",
     "text": [
      "One of my favorite book is Alice in Wonderland\n"
     ]
    }
   ],
   "source": [
    "def favorite_book(title):\n",
    "    Book = \"One of my favorite book is\"\n",
    "    print(Book,title)\n",
    "favorite_book(\"Alice in Wonderland\")"
   ]
  },
  {
   "cell_type": "code",
   "execution_count": 15,
   "metadata": {},
   "outputs": [
    {
     "name": "stdout",
     "output_type": "stream",
     "text": [
      "Guess a Number Between 1 To 30: 5\n",
      "Hint:Try Greater!\n",
      "Second Chance: 11\n",
      "Hint:Try Greater!\n",
      "Third Chance: 16\n",
      "Better Luck Next Time!\n",
      "The Random Number was:  30\n"
     ]
    }
   ],
   "source": [
    "Num = int(input(\"Guess a Number Between 1 To 30: \")) \n",
    "import random\n",
    "for x in range(1):\n",
    "        guess = random.randint(1,30)\n",
    "        if Num == guess:\n",
    "            print(\"You Win!\")\n",
    "        elif Num > guess:\n",
    "            print(\"Hint:Try Smallerr!\")\n",
    "            a = int(input(\"Second Chance: \"))\n",
    "            if a == guess:\n",
    "                print(\"You Win!\")\n",
    "            elif a > guess:\n",
    "                print(\"Hint:Try Smallerr!\")\n",
    "                b = int(input(\"Third Chance: \"))\n",
    "                if b == guess:\n",
    "                    print(\"You Win!\")\n",
    "                else:\n",
    "                    print(\"Better Luck Next Time!\")    \n",
    "        elif Num < guess:\n",
    "            print(\"Hint:Try Greater!\")\n",
    "        \n",
    "            a = int(input(\"Second Chance: \"))\n",
    "            if a == guess:\n",
    "                print(\"You Win!\")\n",
    "            elif a < guess:\n",
    "                print(\"Hint:Try Greater!\")\n",
    "                b = int(input(\"Third Chance: \"))\n",
    "                if b == guess:\n",
    "                    print(\"You Win!\")\n",
    "                else:\n",
    "                    print(\"Better Luck Next Time!\")\n",
    "print(\"The Random Number was: \",guess)"
   ]
  }
 ],
 "metadata": {
  "kernelspec": {
   "display_name": "Python 3",
   "language": "python",
   "name": "python3"
  },
  "language_info": {
   "codemirror_mode": {
    "name": "ipython",
    "version": 3
   },
   "file_extension": ".py",
   "mimetype": "text/x-python",
   "name": "python",
   "nbconvert_exporter": "python",
   "pygments_lexer": "ipython3",
   "version": "3.7.4"
  }
 },
 "nbformat": 4,
 "nbformat_minor": 2
}
